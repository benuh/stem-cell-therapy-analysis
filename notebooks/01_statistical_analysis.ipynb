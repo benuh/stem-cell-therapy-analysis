{
 "cells": [
  {
   "cell_type": "markdown",
   "metadata": {},
   "source": [
    "# Statistical Analysis of Stem Cell Therapy Clinical Trials\n",
    "\n",
    "## Research Hour Documentation - Statistical Analysis Session\n",
    "\n",
    "**Date**: Current Session  \n",
    "**Objective**: Perform comprehensive statistical analysis on real clinical trial data for stem cell therapy in epilepsy and diabetes  \n",
    "**Data Sources**: ClinicalTrials.gov, published meta-analyses, FDA submissions  \n"
   ]
  },
  {
   "cell_type": "code",
   "execution_count": null,
   "metadata": {},
   "outputs": [],
   "source": [
    "# Import required libraries\n",
    "import pandas as pd\n",
    "import numpy as np\n",
    "import matplotlib.pyplot as plt\n",
    "import seaborn as sns\n",
    "from scipy import stats\n",
    "from scipy.stats import ttest_ind, chi2_contingency, mannwhitneyu\n",
    "import statsmodels.api as sm\n",
    "from statsmodels.stats.meta_analysis import combine_effects\n",
    "import warnings\n",
    "warnings.filterwarnings('ignore')\n",
    "\n",
    "# Configure plotting\n",
    "plt.style.use('seaborn-v0_8')\n",
    "sns.set_palette(\"husl\")\n",
    "%matplotlib inline"
   ]
  },
  {
   "cell_type": "markdown",
   "metadata": {},
   "source": [
    "## 1. Data Loading and Initial Exploration"
   ]
  },
  {
   "cell_type": "code",
   "execution_count": null,
   "metadata": {},
   "outputs": [],
   "source": [
    "# Load clinical trial data\n",
    "df = pd.read_csv('../data/clinical_trial_data.csv')\n",
    "\n",
    "print(\"Dataset Overview:\")\n",
    "print(f\"Total trials: {len(df)}\")\n",
    "print(f\"Conditions studied: {df['condition'].unique()}\")\n",
    "print(f\"Interventions: {df['intervention'].nunique()}\")\n",
    "print(f\"Total patients: {df['n_patients'].sum()}\")\n",
    "\n",
    "# Display basic statistics\n",
    "df.head()"
   ]
  },
  {
   "cell_type": "code",
   "execution_count": null,
   "metadata": {},
   "outputs": [],
   "source": [
    "# Data quality assessment\n",
    "print(\"Data Quality Assessment:\")\n",
    "print(f\"Missing values:\")\n",
    "print(df.isnull().sum())\n",
    "print(f\"\\nData types:\")\n",
    "print(df.dtypes)"
   ]
  },
  {
   "cell_type": "markdown",
   "metadata": {},
   "source": [
    "## 2. Descriptive Statistics by Condition"
   ]
  },
  {
   "cell_type": "code",
   "execution_count": null,
   "metadata": {},
   "outputs": [],
   "source": [
    "# Separate data by condition\n",
    "epilepsy_data = df[df['condition'] == 'Epilepsy'].copy()\n",
    "diabetes_t1_data = df[df['condition'] == 'Type_1_Diabetes'].copy()\n",
    "diabetes_t2_data = df[df['condition'] == 'Type_2_Diabetes'].copy()\n",
    "\n",
    "print(\"=== EPILEPSY TRIALS ANALYSIS ===\")\n",
    "print(f\"Number of trials: {len(epilepsy_data)}\")\n",
    "print(f\"Total patients: {epilepsy_data['n_patients'].sum()}\")\n",
    "print(f\"Mean seizure reduction: {epilepsy_data[epilepsy_data['primary_endpoint'] == 'seizure_reduction_percent']['endpoint_value'].mean():.1f}%\")\n",
    "print(f\"Range: {epilepsy_data[epilepsy_data['primary_endpoint'] == 'seizure_reduction_percent']['endpoint_value'].min():.1f}% - {epilepsy_data[epilepsy_data['primary_endpoint'] == 'seizure_reduction_percent']['endpoint_value'].max():.1f}%\")\n",
    "\n",
    "print(\"\\n=== TYPE 1 DIABETES TRIALS ANALYSIS ===\")\n",
    "print(f\"Number of trials: {len(diabetes_t1_data)}\")\n",
    "print(f\"Total patients: {diabetes_t1_data['n_patients'].sum()}\")\n",
    "\n",
    "# Insulin independence rates\n",
    "insulin_indep = diabetes_t1_data[diabetes_t1_data['primary_endpoint'] == 'insulin_independence_rate']['endpoint_value']\n",
    "if len(insulin_indep) > 0:\n",
    "    print(f\"Mean insulin independence rate: {insulin_indep.mean():.1f}%\")\n",
    "    print(f\"Range: {insulin_indep.min():.1f}% - {insulin_indep.max():.1f}%\")\n",
    "\n",
    "print(\"\\n=== TYPE 2 DIABETES TRIALS ANALYSIS ===\")\n",
    "print(f\"Number of trials: {len(diabetes_t2_data)}\")\n",
    "print(f\"Total patients: {diabetes_t2_data['n_patients'].sum()}\")"
   ]
  },
  {
   "cell_type": "markdown",
   "metadata": {},
   "source": [
    "## 3. Statistical Hypothesis Testing"
   ]
  },
  {
   "cell_type": "code",
   "execution_count": null,
   "metadata": {},
   "outputs": [],
   "source": [
    "# Test 1: Is there a significant difference in efficacy between epilepsy and diabetes trials?\n",
    "print(\"=== HYPOTHESIS TEST 1: Efficacy Comparison Across Conditions ===\")\n",
    "\n",
    "# For epilepsy: seizure reduction percentages\n",
    "epilepsy_outcomes = epilepsy_data[epilepsy_data['primary_endpoint'] == 'seizure_reduction_percent']['endpoint_value']\n",
    "\n",
    "# For diabetes: insulin independence rates\n",
    "diabetes_outcomes = diabetes_t1_data[diabetes_t1_data['primary_endpoint'] == 'insulin_independence_rate']['endpoint_value']\n",
    "\n",
    "if len(epilepsy_outcomes) > 1 and len(diabetes_outcomes) > 1:\n",
    "    # Mann-Whitney U test (non-parametric)\n",
    "    statistic, p_value = mannwhitneyu(epilepsy_outcomes, diabetes_outcomes, alternative='two-sided')\n",
    "    print(f\"Mann-Whitney U test:\")\n",
    "    print(f\"Epilepsy median efficacy: {epilepsy_outcomes.median():.1f}%\")\n",
    "    print(f\"Diabetes median efficacy: {diabetes_outcomes.median():.1f}%\")\n",
    "    print(f\"U-statistic: {statistic:.3f}\")\n",
    "    print(f\"p-value: {p_value:.6f}\")\n",
    "    print(f\"Significant difference: {'Yes' if p_value < 0.05 else 'No'}\")\n",
    "else:\n",
    "    print(\"Insufficient data for comparison test\")"
   ]
  },
  {
   "cell_type": "code",
   "execution_count": null,
   "metadata": {},
   "outputs": [],
   "source": [
    "# Test 2: Treatment duration effect analysis\n",
    "print(\"\\n=== HYPOTHESIS TEST 2: Treatment Duration vs. Efficacy ===\")\n",
    "\n",
    "# Filter data with both follow-up and efficacy measures\n",
    "duration_efficacy = df[(df['follow_up_months'].notna()) & \n",
    "                      (df['endpoint_value'].notna()) &\n",
    "                      (df['primary_endpoint'].isin(['seizure_reduction_percent', 'insulin_independence_rate']))].copy()\n",
    "\n",
    "if len(duration_efficacy) > 3:\n",
    "    # Correlation analysis\n",
    "    correlation_coef, correlation_p = stats.pearsonr(duration_efficacy['follow_up_months'], \n",
    "                                                   duration_efficacy['endpoint_value'])\n",
    "    print(f\"Pearson correlation between follow-up duration and efficacy:\")\n",
    "    print(f\"Correlation coefficient: {correlation_coef:.3f}\")\n",
    "    print(f\"p-value: {correlation_p:.6f}\")\n",
    "    print(f\"Interpretation: {'Significant positive correlation' if correlation_p < 0.05 and correlation_coef > 0 else 'No significant correlation'}\")\n",
    "    \n",
    "    # Linear regression\n",
    "    X = sm.add_constant(duration_efficacy['follow_up_months'])\n",
    "    y = duration_efficacy['endpoint_value']\n",
    "    model = sm.OLS(y, X).fit()\n",
    "    print(f\"\\nLinear Regression Results:\")\n",
    "    print(f\"R-squared: {model.rsquared:.3f}\")\n",
    "    print(f\"Slope: {model.params[1]:.3f} (efficacy change per month)\")\n",
    "    print(f\"Slope p-value: {model.pvalues[1]:.6f}\")\n",
    "else:\n",
    "    print(\"Insufficient data for duration analysis\")"
   ]
  },
  {
   "cell_type": "markdown",
   "metadata": {},
   "source": [
    "## 4. Meta-Analysis of Diabetes Outcomes"
   ]
  },
  {
   "cell_type": "code",
   "execution_count": null,
   "metadata": {},
   "outputs": [],
   "source": [
    "# Meta-analysis using available confidence intervals\n",
    "print(\"=== META-ANALYSIS: DIABETES HbA1c REDUCTION ===\")\n",
    "\n",
    "# Extract meta-analysis data with confidence intervals\n",
    "meta_data = df[(df['phase'] == 'Meta_Analysis') & \n",
    "               (df['primary_endpoint'] == 'hba1c_change_absolute') &\n",
    "               (df['ci_lower'].notna()) & \n",
    "               (df['ci_upper'].notna())].copy()\n",
    "\n",
    "if len(meta_data) >= 2:\n",
    "    print(\"Available meta-analysis data:\")\n",
    "    for idx, row in meta_data.iterrows():\n",
    "        print(f\"{row['condition']}: Effect = {row['endpoint_value']:.2f}, CI = [{row['ci_lower']:.2f}, {row['ci_upper']:.2f}], N = {row['n_patients']}\")\n",
    "    \n",
    "    # Calculate pooled effect size\n",
    "    effects = meta_data['endpoint_value'].values\n",
    "    variances = ((meta_data['ci_upper'] - meta_data['ci_lower']) / (2 * 1.96)) ** 2\n",
    "    weights = 1 / variances\n",
    "    \n",
    "    pooled_effect = np.sum(effects * weights) / np.sum(weights)\n",
    "    pooled_variance = 1 / np.sum(weights)\n",
    "    pooled_se = np.sqrt(pooled_variance)\n",
    "    \n",
    "    # 95% confidence interval for pooled effect\n",
    "    pooled_ci_lower = pooled_effect - 1.96 * pooled_se\n",
    "    pooled_ci_upper = pooled_effect + 1.96 * pooled_se\n",
    "    \n",
    "    print(f\"\\nPooled Meta-Analysis Results:\")\n",
    "    print(f\"Pooled HbA1c reduction: {pooled_effect:.2f}% (95% CI: {pooled_ci_lower:.2f}, {pooled_ci_upper:.2f})\")\n",
    "    print(f\"Total patients: {meta_data['n_patients'].sum()}\")\n",
    "    \n",
    "    # Test for heterogeneity (Q-statistic)\n",
    "    Q = np.sum(weights * (effects - pooled_effect) ** 2)\n",
    "    df_q = len(effects) - 1\n",
    "    p_heterogeneity = 1 - stats.chi2.cdf(Q, df_q)\n",
    "    I_squared = max(0, (Q - df_q) / Q) * 100\n",
    "    \n",
    "    print(f\"Heterogeneity analysis:\")\n",
    "    print(f\"Q-statistic: {Q:.3f}, df = {df_q}, p = {p_heterogeneity:.6f}\")\n",
    "    print(f\"I² = {I_squared:.1f}% ({'Low' if I_squared < 25 else 'Moderate' if I_squared < 75 else 'High'} heterogeneity)\")\n",
    "else:\n",
    "    print(\"Insufficient meta-analysis data available\")"
   ]
  },
  {
   "cell_type": "markdown",
   "metadata": {},
   "source": [
    "## 5. Survival Analysis Simulation"
   ]
  },
  {
   "cell_type": "code",
   "execution_count": null,
   "metadata": {},
   "outputs": [],
   "source": [
    "# Simulate treatment durability based on available data\n",
    "print(\"=== TREATMENT DURABILITY ANALYSIS ===\")\n",
    "\n",
    "# Extract duration data by intervention type\n",
    "duration_data = df[df['follow_up_months'].notna()].groupby('intervention').agg({\n",
    "    'follow_up_months': ['mean', 'median', 'std'],\n",
    "    'endpoint_value': 'mean',\n",
    "    'n_patients': 'sum'\n",
    "}).round(2)\n",
    "\n",
    "print(\"Treatment Duration by Intervention Type:\")\n",
    "print(duration_data)\n",
    "\n",
    "# Calculate treatment persistence rates\n",
    "print(\"\\nTreatment Persistence Analysis:\")\n",
    "for intervention in df['intervention'].unique():\n",
    "    if pd.notna(intervention):\n",
    "        intervention_data = df[df['intervention'] == intervention]\n",
    "        if len(intervention_data) > 0:\n",
    "            max_followup = intervention_data['follow_up_months'].max()\n",
    "            mean_efficacy = intervention_data['endpoint_value'].mean()\n",
    "            print(f\"{intervention}: Max follow-up = {max_followup} months, Mean efficacy = {mean_efficacy:.1f}%\")"
   ]
  },
  {
   "cell_type": "markdown",
   "metadata": {},
   "source": [
    "## 6. Safety Analysis"
   ]
  },
  {
   "cell_type": "code",
   "execution_count": null,
   "metadata": {},
   "outputs": [],
   "source": [
    "# Safety event analysis\n",
    "print(\"=== SAFETY ANALYSIS ===\")\n",
    "\n",
    "# Calculate safety event rates\n",
    "safety_data = df[df['safety_events'].notna()].copy()\n",
    "\n",
    "if len(safety_data) > 0:\n",
    "    total_patients_safety = safety_data['n_patients'].sum()\n",
    "    total_events = safety_data['safety_events'].sum()\n",
    "    overall_safety_rate = (total_events / total_patients_safety) * 100\n",
    "    \n",
    "    print(f\"Overall safety profile:\")\n",
    "    print(f\"Total patients with safety data: {total_patients_safety}\")\n",
    "    print(f\"Total safety events: {total_events}\")\n",
    "    print(f\"Safety event rate: {overall_safety_rate:.2f}%\")\n",
    "    \n",
    "    # Safety by condition\n",
    "    safety_by_condition = safety_data.groupby('condition').agg({\n",
    "        'safety_events': 'sum',\n",
    "        'n_patients': 'sum'\n",
    "    })\n",
    "    safety_by_condition['safety_rate'] = (safety_by_condition['safety_events'] / safety_by_condition['n_patients']) * 100\n",
    "    \n",
    "    print(f\"\\nSafety by condition:\")\n",
    "    print(safety_by_condition)\n",
    "    \n",
    "    # 95% confidence interval for safety rate\n",
    "    n = total_patients_safety\n",
    "    p = total_events / n\n",
    "    se = np.sqrt(p * (1 - p) / n)\n",
    "    ci_lower = p - 1.96 * se\n",
    "    ci_upper = p + 1.96 * se\n",
    "    \n",
    "    print(f\"\\n95% CI for overall safety event rate: {ci_lower*100:.2f}% - {ci_upper*100:.2f}%\")\n",
    "else:\n",
    "    print(\"No safety data available for analysis\")"
   ]
  },
  {
   "cell_type": "markdown",
   "metadata": {},
   "source": [
    "## 7. Statistical Power Analysis"
   ]
  },
  {
   "cell_type": "code",
   "execution_count": null,
   "metadata": {},
   "outputs": [],
   "source": [
    "# Power analysis for future trial design\n",
    "from statsmodels.stats.power import ttest_power\n",
    "\n",
    "print(\"=== POWER ANALYSIS FOR FUTURE TRIALS ===\")\n",
    "\n",
    "# Based on observed effect sizes, calculate required sample sizes\n",
    "epilepsy_effects = epilepsy_data[epilepsy_data['primary_endpoint'] == 'seizure_reduction_percent']['endpoint_value']\n",
    "if len(epilepsy_effects) > 1:\n",
    "    mean_effect = epilepsy_effects.mean()\n",
    "    std_effect = epilepsy_effects.std()\n",
    "    \n",
    "    # Calculate Cohen's d (assuming control group has 0% improvement)\n",
    "    cohens_d = mean_effect / std_effect if std_effect > 0 else 1.0\n",
    "    \n",
    "    print(f\"Epilepsy trials:\")\n",
    "    print(f\"Mean effect size: {mean_effect:.1f}%\")\n",
    "    print(f\"Standard deviation: {std_effect:.1f}%\")\n",
    "    print(f\"Cohen's d: {cohens_d:.2f}\")\n",
    "    \n",
    "    # Sample size calculation for 80% power\n",
    "    for power in [0.8, 0.9]:\n",
    "        try:\n",
    "            n_required = ttest_power(effect_size=cohens_d, power=power, alpha=0.05)\n",
    "            print(f\"Sample size needed for {power*100:.0f}% power: {n_required:.0f} per group\")\n",
    "        except:\n",
    "            print(f\"Could not calculate sample size for {power*100:.0f}% power\")\n",
    "\n",
    "# Cost-effectiveness preliminary analysis\n",
    "print(f\"\\n=== PRELIMINARY COST-EFFECTIVENESS ===\")\n",
    "# Approximate costs (placeholder values)\n",
    "cost_per_patient = 150000  # USD, typical stem cell therapy cost\n",
    "total_patients = df['n_patients'].sum()\n",
    "estimated_total_cost = total_patients * cost_per_patient\n",
    "\n",
    "print(f\"Estimated research costs to date: ${estimated_total_cost:,.0f}\")\n",
    "print(f\"Cost per percentage point of efficacy (epilepsy): ${cost_per_patient / epilepsy_effects.mean():,.0f}\" if len(epilepsy_effects) > 0 else \"\")"
   ]
  },
  {
   "cell_type": "markdown",
   "metadata": {},
   "source": [
    "## 8. Key Statistical Findings Summary"
   ]
  },
  {
   "cell_type": "code",
   "execution_count": null,
   "metadata": {},
   "outputs": [],
   "source": [
    "# Summary of key statistical findings\n",
    "print(\"=== KEY STATISTICAL FINDINGS SUMMARY ===\")\n",
    "print(\"\\n1. EFFICACY ANALYSIS:\")\n",
    "\n",
    "# Epilepsy summary\n",
    "epilepsy_seizure_reduction = epilepsy_data[epilepsy_data['primary_endpoint'] == 'seizure_reduction_percent']['endpoint_value']\n",
    "if len(epilepsy_seizure_reduction) > 0:\n",
    "    print(f\"   • Epilepsy seizure reduction: {epilepsy_seizure_reduction.mean():.1f}% ± {epilepsy_seizure_reduction.std():.1f}%\")\n",
    "    print(f\"   • Best outcome: {epilepsy_seizure_reduction.max():.1f}% (NRTX-1001 long-term)\")\n",
    "\n",
    "# Diabetes summary\n",
    "diabetes_insulin_indep = diabetes_t1_data[diabetes_t1_data['primary_endpoint'] == 'insulin_independence_rate']['endpoint_value']\n",
    "if len(diabetes_insulin_indep) > 0:\n",
    "    print(f\"   • T1DM insulin independence: {diabetes_insulin_indep.mean():.1f}% ± {diabetes_insulin_indep.std():.1f}%\")\n",
    "    print(f\"   • Best outcome: {diabetes_insulin_indep.max():.1f}% (VX-880)\")\n",
    "\n",
    "print(\"\\n2. STATISTICAL SIGNIFICANCE:\")\n",
    "# Count trials with significant p-values\n",
    "significant_trials = df[(df['p_value'].notna()) & (df['p_value'] < 0.05)]\n",
    "total_trials_with_p = df[df['p_value'].notna()]\n",
    "print(f\"   • Trials with significant results: {len(significant_trials)}/{len(total_trials_with_p)} ({len(significant_trials)/len(total_trials_with_p)*100:.0f}%)\" if len(total_trials_with_p) > 0 else \"   • Limited p-value data available\")\n",
    "\n",
    "print(\"\\n3. TREATMENT DURABILITY:\")\n",
    "duration_data = df[df['follow_up_months'].notna()]['follow_up_months']\n",
    "if len(duration_data) > 0:\n",
    "    print(f\"   • Mean follow-up: {duration_data.mean():.1f} months\")\n",
    "    print(f\"   • Longest follow-up: {duration_data.max():.0f} months\")\n",
    "    print(f\"   • Studies with >12 months follow-up: {len(duration_data[duration_data > 12])}/{len(duration_data)}\")\n",
    "\n",
    "print(\"\\n4. SAFETY PROFILE:\")\n",
    "if len(safety_data) > 0:\n",
    "    print(f\"   • Overall safety event rate: {overall_safety_rate:.2f}%\")\n",
    "    print(f\"   • Epilepsy trials: {safety_data[safety_data['condition']=='Epilepsy']['safety_events'].sum()} events in {safety_data[safety_data['condition']=='Epilepsy']['n_patients'].sum()} patients\")\n",
    "    print(f\"   • Diabetes trials: {safety_data[safety_data['condition'].str.contains('Diabetes', na=False)]['safety_events'].sum()} events in {safety_data[safety_data['condition'].str.contains('Diabetes', na=False)]['n_patients'].sum()} patients\")\n",
    "\n",
    "print(\"\\n5. RESEARCH GAPS IDENTIFIED:\")\n",
    "print(f\"   • Limited long-term data: Only {len(duration_data[duration_data > 24])}/{len(duration_data)} studies >24 months\" if len(duration_data) > 0 else \"   • Limited duration data\")\n",
    "print(f\"   • Small sample sizes: Median N = {df['n_patients'].median():.0f} patients per trial\")\n",
    "print(f\"   • Missing confidence intervals: {df['ci_lower'].isna().sum()}/{len(df)} trials\")\n",
    "print(f\"   • Limited control groups: {len(df[df['control_group'] > 0])}/{len(df)} trials with controls\")"
   ]
  }
 ],
 "metadata": {
  "kernelspec": {
   "display_name": "Python 3",
   "language": "python",
   "name": "python3"
  },
  "language_info": {
   "codemirror_mode": {
    "name": "ipython",
    "version": 3
   },
   "file_extension": ".py",
   "mimetype": "text/x-python",
   "name": "python",
   "nbconvert_exporter": "python",
   "pygments_lexer": "ipython3",
   "version": "3.8.5"
  }
 },
 "nbformat": 4,
 "nbformat_minor": 4
}